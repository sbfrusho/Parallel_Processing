{
  "nbformat": 4,
  "nbformat_minor": 0,
  "metadata": {
    "colab": {
      "provenance": [],
      "gpuType": "T4"
    },
    "kernelspec": {
      "name": "python3",
      "display_name": "Python 3"
    },
    "language_info": {
      "name": "python"
    },
    "accelerator": "GPU"
  },
  "cells": [
    {
      "cell_type": "markdown",
      "source": [
        "search on dataset with 3 inputs , solve shakil only search by name\n"
      ],
      "metadata": {
        "id": "drajmbPIuJDw"
      }
    },
    {
      "cell_type": "code",
      "execution_count": 17,
      "metadata": {
        "colab": {
          "base_uri": "https://localhost:8080/"
        },
        "id": "-HrVIpp-O4zV",
        "outputId": "0887ca82-b9ae-4a56-ccb5-49e55e63785e"
      },
      "outputs": [
        {
          "output_type": "stream",
          "name": "stdout",
          "text": [
            "Overwriting search_phonebook.cu\n"
          ]
        }
      ],
      "source": [
        "%%writefile search_phonebook.cu\n",
        "#include <bits/stdc++.h>\n",
        "#include <cuda.h>\n",
        "\n",
        "using namespace std;\n",
        "\n",
        "struct Contact {\n",
        "  char id[50];\n",
        "  char name[50];\n",
        "  char number[50];\n",
        "};\n",
        "\n",
        "__device__ bool check(char* str1, char* str2, int len) {\n",
        "  for(int i = 0; str1[i] != '\\0'; i++) {\n",
        "    int j = 0;\n",
        "    while(str1[i+j] != '\\0' && str2[j] != '\\0' && str1[i+j] == str2[j]) {\n",
        "      j++;\n",
        "    }\n",
        "    if(j == len-1) {\n",
        "      return true;\n",
        "    }\n",
        "  }\n",
        "  return false;\n",
        "}\n",
        "\n",
        "__global__ void searchPhonebook(Contact* phonebook, int num_contacts, char* search_name, int name_length) {\n",
        "  int idx = blockIdx.x * blockDim.x + threadIdx.x;\n",
        "  if(idx < num_contacts) {\n",
        "    if(check(phonebook[idx].name, search_name, name_length)) {\n",
        "      printf(\"%s %s %s\\n\", phonebook[idx].id, phonebook[idx].name, phonebook[idx].number);\n",
        "    }\n",
        "  }\n",
        "}\n",
        "\n",
        "int main(int argc, char* argv[]) {\n",
        "  if(argc != 3) {\n",
        "    cerr << \"Usage: \" << argv[0] << \" <search_name> <num_threads>\" << endl;\n",
        "    return 1;\n",
        "  }\n",
        "\n",
        "  string search_name = argv[1];\n",
        "  int num_threads = atoi(argv[2]);\n",
        "  // Mount Google Drive and copy the location\n",
        "  string file_name = \"/content/drive/MyDrive/csv/parallel dataset/labtest_dataset1.txt\";\n",
        "  //string file_name = \"phonebook1.txt\";\n",
        "\n",
        "  vector<Contact> phonebook;\n",
        "\n",
        "  ifstream file(file_name);\n",
        "  if(!file.is_open()) {\n",
        "    cerr << \"Error opening file: \" << file_name << endl;\n",
        "    return 1;\n",
        "  }\n",
        "  else {\n",
        "    Contact contact;\n",
        "    string line;\n",
        "    while(getline(file, line)) {\n",
        "      /* Format: \"id\",\"name\",\"phone_number\"\n",
        "      int pos = line.find(\",\");\n",
        "      strcpy(contact.id, line.substr(1, pos-2).c_str());\n",
        "      line = line.substr(pos+1);\n",
        "      pos = line.find(\",\");\n",
        "      strcpy(contact.name, line.substr(1, pos-2).c_str());\n",
        "      strcpy(contact.number, line.substr(pos+2, line.size()-pos-4).c_str());\n",
        "      phonebook.push_back(contact);\n",
        "      */\n",
        "\n",
        "      // Format: \"name\",\"phone_number\"\n",
        "      int pos = line.find(\",\");\n",
        "      // Extract name (without the quotes)\n",
        "      strcpy(contact.name, line.substr(1, pos - 2).c_str());\n",
        "\n",
        "      // Extract number (also without quotes)\n",
        "      strcpy(contact.number, line.substr(pos + 2, line.size() - pos - 4).c_str());\n",
        "\n",
        "      phonebook.push_back(contact);\n",
        "    }\n",
        "    file.close();\n",
        "  }\n",
        "  int num_contacts = phonebook.size();\n",
        "  Contact* device_phonebook;\n",
        "  cudaMalloc((void**)&device_phonebook, sizeof(Contact)*num_contacts);\n",
        "  cudaMemcpy(device_phonebook, phonebook.data(), sizeof(Contact)*num_contacts, cudaMemcpyHostToDevice);\n",
        "\n",
        "  int name_length = search_name.length() + 1;\n",
        "  char* device_search_name;\n",
        "  cudaMalloc((void**)&device_search_name, name_length);\n",
        "  cudaMemcpy(device_search_name, search_name.c_str(), name_length, cudaMemcpyHostToDevice);\n",
        "\n",
        "  for(int i = 0; i < num_contacts; i += num_threads) {\n",
        "    int thread_count = min(num_contacts-i, num_threads);\n",
        "    searchPhonebook<<<1, thread_count>>>(device_phonebook + i, thread_count, device_search_name, name_length);\n",
        "    cudaDeviceSynchronize();\n",
        "  }\n",
        "\n",
        "  cudaFree(device_phonebook);\n",
        "  cudaFree(device_search_name);\n",
        "\n",
        "  return 0;\n",
        "}\n",
        "\n"
      ]
    },
    {
      "cell_type": "code",
      "source": [
        "from google.colab import drive\n",
        "drive.mount('/content/drive')"
      ],
      "metadata": {
        "colab": {
          "base_uri": "https://localhost:8080/"
        },
        "id": "M0Nu-2zwbgps",
        "outputId": "882ba652-1033-4b81-bb76-1122b1bcc552"
      },
      "execution_count": 1,
      "outputs": [
        {
          "output_type": "stream",
          "name": "stdout",
          "text": [
            "Mounted at /content/drive\n"
          ]
        }
      ]
    },
    {
      "cell_type": "code",
      "source": [
        "!nvcc -arch=sm_75 search_phonebook.cu -o search_phonebook"
      ],
      "metadata": {
        "id": "nV7JAAieTwfZ"
      },
      "execution_count": 18,
      "outputs": []
    },
    {
      "cell_type": "code",
      "source": [
        "# ✅ real → wall clock time\n",
        "# This is the total elapsed time — from the moment you launched the command to when it exited.\n",
        "# It includes everything: CPU time, GPU time, waiting, I/O, and even time spent doing nothing.\n",
        "\n",
        "# So real 0m0.001s → 1 millisecond total runtime.\n",
        "\n",
        "# ✅ user → user CPU time\n",
        "# This is the amount of time your program spent actively executing on the CPU (not including time spent in kernel mode or on the GPU).\n",
        "# For CUDA programs, this includes:\n",
        "\n",
        "#     setting up memory,\n",
        "\n",
        "#     launching kernels,\n",
        "\n",
        "#     copying data,\n",
        "#     but not the time spent by the GPU itself.\n",
        "\n",
        "# So user 0m0.001s → ~1 millisecond of active CPU work.\n",
        "\n",
        "# ✅ sys → system (kernel) CPU time\n",
        "# This is the time spent inside the operating system kernel, handling system calls, device management, etc.\n",
        "# For CUDA, this might include:\n",
        "\n",
        "#     memory allocations (cudaMalloc),\n",
        "\n",
        "#     synchronization (cudaDeviceSynchronize),\n",
        "\n",
        "#     copying between host and device.\n",
        "\n",
        "# So sys 0m0.000s → almost zero system-level time."
      ],
      "metadata": {
        "id": "9AlciiPTuyFC"
      },
      "execution_count": 13,
      "outputs": []
    },
    {
      "cell_type": "code",
      "source": [
        "!nvcc -arch=sm_75 search_phonebook.cu -o search_phonebook\n",
        "!time ./search_phonebook NUSRAT 100 > output_shakil.txt"
      ],
      "metadata": {
        "colab": {
          "base_uri": "https://localhost:8080/"
        },
        "id": "hifKo7urUlRo",
        "outputId": "b47bfba2-8303-4dc8-9018-0ba67193dbda"
      },
      "execution_count": 23,
      "outputs": [
        {
          "output_type": "stream",
          "name": "stdout",
          "text": [
            "\n",
            "real\t0m15.274s\n",
            "user\t0m10.589s\n",
            "sys\t0m4.297s\n"
          ]
        }
      ]
    },
    {
      "cell_type": "markdown",
      "source": [
        "solve by asif, only search by name"
      ],
      "metadata": {
        "id": "BeAFHlYouQ-f"
      }
    },
    {
      "cell_type": "code",
      "source": [
        "%%writefile phonebook_search.cu\n",
        "#include <bits/stdc++.h>\n",
        "using namespace std;\n",
        "#include <cuda.h>\n",
        "\n",
        "struct Contact {\n",
        "    char name[65];\n",
        "    char phone_number[65];\n",
        "};\n",
        "\n",
        "string getInput(ifstream& file) {\n",
        "    string ans;\n",
        "    char c;\n",
        "    int readSuru = 0;\n",
        "    while (file.get(c)) {\n",
        "        if (c == '\\\"') {\n",
        "            if (readSuru == 1) break;\n",
        "            readSuru = 1;\n",
        "        } else {\n",
        "            if (readSuru) {\n",
        "                ans.push_back(c);\n",
        "            }\n",
        "        }\n",
        "    }\n",
        "    return ans;\n",
        "}\n",
        "\n",
        "__device__ bool check(char* str1, char* str2) {\n",
        "    for (int i = 0; str1[i] != '\\0'; i++) {\n",
        "        int flag = 1;\n",
        "        for (int j = 0; str2[j] != '\\0'; j++) {\n",
        "            if (str1[i + j] != str2[j]) {\n",
        "                flag = 0;\n",
        "                break;\n",
        "            }\n",
        "        }\n",
        "        if (flag == 1) return true;\n",
        "    }\n",
        "    return false;\n",
        "}\n",
        "\n",
        "__global__ void myKernel(Contact* phoneBook, char* pat, int offset) {\n",
        "    int threadNumber = threadIdx.x + offset;\n",
        "    if (check(phoneBook[threadNumber].name, pat)) {\n",
        "        printf(\"%s %s\\n\", phoneBook[threadNumber].name, phoneBook[threadNumber].phone_number);\n",
        "    }\n",
        "}\n",
        "\n",
        "int main(int argc, char* argv[]) {\n",
        "    if (argc < 3) {\n",
        "        cout << \"Usage: ./phonebook_search <search_name> <thread_limit>\" << endl;\n",
        "        return 1;\n",
        "    }\n",
        "\n",
        "    int threadLimit = atoi(argv[2]);\n",
        "\n",
        "    // Use the correct file path here\n",
        "    ifstream myfile(\"/content/drive/MyDrive/csv/parallel dataset/labtest_dataset1.txt\");\n",
        "    if (!myfile.is_open()) {\n",
        "        cerr << \"Failed to open file.\" << endl;\n",
        "        return 1;\n",
        "    }\n",
        "\n",
        "    vector<Contact> phoneBook;\n",
        "    int count = 0;\n",
        "\n",
        "    while (myfile.peek() != EOF) {\n",
        "        string id = getInput(myfile);  // ignore ID\n",
        "        string name = getInput(myfile);\n",
        "        string phoneNum = getInput(myfile);\n",
        "\n",
        "        Contact c;\n",
        "        strcpy(c.name, name.c_str());\n",
        "        strcpy(c.phone_number, phoneNum.c_str());\n",
        "\n",
        "        phoneBook.push_back(c);\n",
        "        count++;\n",
        "    }\n",
        "\n",
        "    string search_name = argv[1];\n",
        "    char pat[65];\n",
        "    strcpy(pat, search_name.c_str());\n",
        "\n",
        "    char* d_pat;\n",
        "    cudaMalloc(&d_pat, 65);\n",
        "    cudaMemcpy(d_pat, pat, 65, cudaMemcpyHostToDevice);\n",
        "\n",
        "    int n = phoneBook.size();\n",
        "    Contact* d_phoneBook;\n",
        "    cudaMalloc(&d_phoneBook, n * sizeof(Contact));\n",
        "    cudaMemcpy(d_phoneBook, phoneBook.data(), n * sizeof(Contact), cudaMemcpyHostToDevice);\n",
        "\n",
        "    int bakiAche = n;\n",
        "    int offset = 0;\n",
        "    while (bakiAche > 0) {\n",
        "        int batchSize = min(threadLimit, bakiAche);\n",
        "        myKernel<<<1, batchSize>>>(d_phoneBook, d_pat, offset);\n",
        "        cudaDeviceSynchronize();\n",
        "\n",
        "        bakiAche -= batchSize;\n",
        "        offset += batchSize;\n",
        "    }\n",
        "\n",
        "    cudaFree(d_phoneBook);\n",
        "    cudaFree(d_pat);\n",
        "\n",
        "    return 0;\n",
        "}\n"
      ],
      "metadata": {
        "colab": {
          "base_uri": "https://localhost:8080/"
        },
        "id": "HMb-wpQ0sLMU",
        "outputId": "75276c46-6ce7-471f-fe77-9d4699e20a78"
      },
      "execution_count": 5,
      "outputs": [
        {
          "output_type": "stream",
          "name": "stdout",
          "text": [
            "Overwriting phonebook_search.cu\n"
          ]
        }
      ]
    },
    {
      "cell_type": "code",
      "source": [
        "!nvcc -arch=sm_75 phonebook_search.cu -o phonebook_search"
      ],
      "metadata": {
        "id": "0O_5jKh-tNw9"
      },
      "execution_count": 6,
      "outputs": []
    },
    {
      "cell_type": "code",
      "source": [
        "!time ./phonebook_search 015 1 > output.txt"
      ],
      "metadata": {
        "id": "P2oB63uZvb5g",
        "colab": {
          "base_uri": "https://localhost:8080/"
        },
        "outputId": "2133ee67-3fd0-40e1-848a-8a92282beeff"
      },
      "execution_count": 11,
      "outputs": [
        {
          "output_type": "stream",
          "name": "stdout",
          "text": [
            "\n",
            "real\t2m20.334s\n",
            "user\t2m16.453s\n",
            "sys\t0m2.814s\n"
          ]
        }
      ]
    },
    {
      "cell_type": "code",
      "source": [
        "!time ./phonebook_search MUMU 2 > output.txt"
      ],
      "metadata": {
        "id": "67MqoXmCtOnM",
        "colab": {
          "base_uri": "https://localhost:8080/"
        },
        "outputId": "fae1ce64-2286-49ed-aa67-e74c87a3c51d"
      },
      "execution_count": 8,
      "outputs": [
        {
          "output_type": "stream",
          "name": "stdout",
          "text": [
            "\n",
            "real\t1m13.478s\n",
            "user\t1m10.642s\n",
            "sys\t0m2.242s\n"
          ]
        }
      ]
    },
    {
      "cell_type": "code",
      "source": [
        "!time ./phonebook_search MUMU 10 > output.txt"
      ],
      "metadata": {
        "colab": {
          "base_uri": "https://localhost:8080/"
        },
        "id": "3lrmy0bxDZKT",
        "outputId": "1aeb9faa-8b0f-4b40-eb6c-524edc431ab0"
      },
      "execution_count": 9,
      "outputs": [
        {
          "output_type": "stream",
          "name": "stdout",
          "text": [
            "\n",
            "real\t0m24.773s\n",
            "user\t0m22.182s\n",
            "sys\t0m2.328s\n"
          ]
        }
      ]
    },
    {
      "cell_type": "code",
      "execution_count": null,
      "metadata": {
        "colab": {
          "base_uri": "https://localhost:8080/"
        },
        "id": "k1kzz-4upUwX",
        "outputId": "f10b79e3-6335-449a-e3fc-01051b4bebd7"
      },
      "outputs": [
        {
          "output_type": "stream",
          "name": "stdout",
          "text": [
            "Writing asif.cu\n"
          ]
        }
      ],
      "source": [
        "%%writefile asif.cu\n",
        "#include <iostream>\n",
        "#include <cuda_runtime.h>\n",
        "using namespace std;\n",
        "\n",
        "__global__ void matrixMul(float* A, float* B, float* C, int M, int N, int P, int offset) {\n",
        "    int k = threadIdx.x + offset;\n",
        "\n",
        "    float* a = A + k * M * N;\n",
        "    float* b = B + k * N * P;\n",
        "    float* c = C + k * M * P;\n",
        "\n",
        "    for(int i = 0; i < M; i++) {\n",
        "        for(int j = 0; j < N; j++) {\n",
        "            for(int l = 0; l < P; l++) {\n",
        "                //c[i][l] += a[i][j] * b[j][l];\n",
        "                c[i * P + l] = a[i * N + j] * b[j * P + l];\n",
        "            }\n",
        "        }\n",
        "    }\n",
        "}\n",
        "\n",
        "int main(int argc, char *argv[]) {\n",
        "\n",
        "    int T = atoi(argv[1]); //koyta thread use korte parbo\n",
        "    int K = atoi(argv[2]); //koita matrix gun\n",
        "\n",
        "    //100 gun, thread 10,\n",
        "\n",
        "    int M = 400, N = 400, P = 400;\n",
        "\n",
        "    int SizeA = M * N * K;\n",
        "    int SizeB = N * P * K;\n",
        "    int SizeC = M * P * K;\n",
        "\n",
        "    //memory alocate (cpu allocate)\n",
        "    float *h_A = new float[SizeA];\n",
        "    float *h_B = new float[SizeB];\n",
        "    float *h_C = new float[SizeC];\n",
        "\n",
        "\n",
        "    //malloc (gpu allocate)\n",
        "    float *d_A;\n",
        "    cudaMalloc(&d_A, SizeA * sizeof(float));\n",
        "    float *d_B;\n",
        "    cudaMalloc(&d_B, SizeB * sizeof(float));\n",
        "    float *d_C;\n",
        "    cudaMalloc(&d_C, SizeC * sizeof(float));\n",
        "\n",
        "    //data initialize\n",
        "    for (int i = 0; i < SizeA; i++) {\n",
        "        h_A[i] = rand();\n",
        "    }\n",
        "    for(int i = 0; i < SizeB; i++) {\n",
        "        h_B[i] = rand();\n",
        "    }\n",
        "\n",
        "\n",
        "    //copy from host to device\n",
        "    cudaMemcpy(d_A, h_A, SizeA * sizeof(float), cudaMemcpyHostToDevice);\n",
        "    cudaMemcpy(d_B, h_B, SizeB * sizeof(float), cudaMemcpyHostToDevice);\n",
        "\n",
        "    //cuda process suru\n",
        "    int gunKorteHobe = K;\n",
        "    int offset = 0;\n",
        "    while(gunKorteHobe > 0){\n",
        "\n",
        "        int currentBatch = min(gunKorteHobe, T);\n",
        "\n",
        "        matrixMul<<<1,currentBatch>>>(d_A, d_B, d_C, M, N, P, offset);\n",
        "        cudaDeviceSynchronize();\n",
        "\n",
        "        gunKorteHobe -= currentBatch;\n",
        "        offset += currentBatch;\n",
        "    }\n",
        "\n",
        "    //let's copy back to cpu\n",
        "    cudaMemcpy(h_C, d_C, SizeC * sizeof(float), cudaMemcpyDeviceToHost);\n",
        "\n",
        "    cout << \"All operation done\" << endl;\n",
        "\n",
        "}"
      ]
    },
    {
      "cell_type": "code",
      "source": [
        "!nvcc -arch=sm_75 asif.cu -o asif"
      ],
      "metadata": {
        "id": "goRub2rNpgwE"
      },
      "execution_count": null,
      "outputs": []
    },
    {
      "cell_type": "code",
      "source": [
        "!time ./asif 3 10 && sleep 2"
      ],
      "metadata": {
        "colab": {
          "base_uri": "https://localhost:8080/"
        },
        "id": "daM-kYWxrc5S",
        "outputId": "2e007adf-cb76-4eca-9980-b2a2fe48ec61"
      },
      "execution_count": null,
      "outputs": [
        {
          "output_type": "stream",
          "name": "stdout",
          "text": [
            "All operation done\n",
            "\n",
            "real\t0m12.917s\n",
            "user\t0m12.607s\n",
            "sys\t0m0.215s\n"
          ]
        }
      ]
    },
    {
      "cell_type": "code",
      "source": [
        "!time ./asif 3 10 && sleep 2"
      ],
      "metadata": {
        "colab": {
          "base_uri": "https://localhost:8080/"
        },
        "outputId": "f4255b34-f6b3-4947-b3dd-fe9d2b78a853",
        "id": "YsZnOwEaI3l1"
      },
      "execution_count": null,
      "outputs": [
        {
          "output_type": "stream",
          "name": "stdout",
          "text": [
            "All operation done\n",
            "\n",
            "real\t0m12.920s\n",
            "user\t0m12.578s\n",
            "sys\t0m0.214s\n"
          ]
        }
      ]
    },
    {
      "cell_type": "code",
      "source": [
        "!time ./asif 20 10 && sleep 2"
      ],
      "metadata": {
        "colab": {
          "base_uri": "https://localhost:8080/"
        },
        "id": "cmWp3mINCADf",
        "outputId": "a99988f0-b76a-4c13-bb1d-e29e3a4bf311"
      },
      "execution_count": null,
      "outputs": [
        {
          "output_type": "stream",
          "name": "stdout",
          "text": [
            "All operation done\n",
            "\n",
            "real\t0m5.227s\n",
            "user\t0m4.931s\n",
            "sys\t0m0.203s\n"
          ]
        }
      ]
    },
    {
      "cell_type": "code",
      "source": [
        "#include <bits/stdc++.h>\n",
        "#include <mpi.h>\n",
        "using namespace std;\n",
        "\n",
        "struct Contact {\n",
        "    string name;\n",
        "    string phone;\n",
        "};\n",
        "\n",
        "void send_string(const string &text, int receiver) {\n",
        "    int len = text.size() + 1;\n",
        "    MPI_Send(&len, 1, MPI_INT, receiver, 1, MPI_COMM_WORLD);\n",
        "    MPI_Send(text.c_str(), len, MPI_CHAR, receiver, 1, MPI_COMM_WORLD);\n",
        "}\n",
        "\n",
        "string receive_string(int sender) {\n",
        "    int len;\n",
        "    MPI_Recv(&len, 1, MPI_INT, sender, 1, MPI_COMM_WORLD, MPI_STATUS_IGNORE);\n",
        "    char *buf = new char[len];\n",
        "    MPI_Recv(buf, len, MPI_CHAR, sender, 1, MPI_COMM_WORLD, MPI_STATUS_IGNORE);\n",
        "    string res(buf);\n",
        "    delete[] buf;\n",
        "    return res;\n",
        "}\n",
        "\n",
        "string vector_to_string(const vector<Contact> &contacts, int start, int end) {\n",
        "    string result;\n",
        "    for (int i = start; i < min((int)contacts.size(), end); i++) {\n",
        "        result += contacts[i].name + \",\" + contacts[i].phone + \"\\n\";\n",
        "    }\n",
        "    return result;\n",
        "}\n",
        "\n",
        "vector<Contact> string_to_contacts(const string &text) {\n",
        "    vector<Contact> contacts;\n",
        "    istringstream iss(text);\n",
        "    string line;\n",
        "    while (getline(iss, line)) {\n",
        "        if (line.empty()) continue;\n",
        "        int comma = line.find(\",\");\n",
        "        if (comma == string::npos) continue;\n",
        "        contacts.push_back({line.substr(0, comma), line.substr(comma + 1)});\n",
        "    }\n",
        "    return contacts;\n",
        "}\n",
        "\n",
        "string check(const Contact &c, const string &search) {\n",
        "    if (c.name.find(search) != string::npos) {\n",
        "        return c.name + \" \" + c.phone + \"\\n\";\n",
        "    }\n",
        "    return \"\";\n",
        "}\n",
        "\n",
        "void read_phonebook(const vector<string> &files, vector<Contact> &contacts) {\n",
        "    for (const string &file : files) {\n",
        "        ifstream f(file);\n",
        "        string line;\n",
        "        while (getline(f, line)) {\n",
        "            if (line.empty()) continue;\n",
        "            int comma = line.find(\",\");\n",
        "            if (comma == string::npos) continue;\n",
        "            contacts.push_back({line.substr(1, comma - 2), line.substr(comma + 2, line.size() - comma - 3)});\n",
        "        }\n",
        "    }\n",
        "}\n",
        "\n",
        "int main(int argc, char **argv) {\n",
        "    MPI_Init(&argc, &argv);\n",
        "    int rank, size;\n",
        "    MPI_Comm_rank(MPI_COMM_WORLD, &rank);\n",
        "    MPI_Comm_size(MPI_COMM_WORLD, &size);\n",
        "\n",
        "    if (argc < 3) {\n",
        "        if (rank == 0)\n",
        "            cerr << \"Usage: mpirun -n <procs> \" << argv[0] << \" <file>... <search>\\n\";\n",
        "        MPI_Finalize();\n",
        "        return 1;\n",
        "    }\n",
        "\n",
        "    string search_term = argv[argc - 1];\n",
        "    double start, end;\n",
        "\n",
        "    if (rank == 0) {\n",
        "        vector<string> files(argv + 1, argv + argc - 1);\n",
        "        vector<Contact> contacts;\n",
        "        read_phonebook(files, contacts);\n",
        "        int total = contacts.size();\n",
        "        int chunk = (total + size - 1) / size;\n",
        "\n",
        "        for (int i = 1; i < size; i++) {\n",
        "            string text = vector_to_string(contacts, i * chunk, (i + 1) * chunk);\n",
        "            send_string(text, i);\n",
        "        }\n",
        "\n",
        "        start = MPI_Wtime();\n",
        "        string result;\n",
        "        for (int i = 0; i < min(chunk, total); i++) {\n",
        "            string match = check(contacts[i], search_term);\n",
        "            if (!match.empty()) result += match;\n",
        "        }\n",
        "        end = MPI_Wtime();\n",
        "\n",
        "        for (int i = 1; i < size; i++) {\n",
        "            string recv = receive_string(i);\n",
        "            if (!recv.empty()) result += recv;\n",
        "        }\n",
        "\n",
        "        ofstream out(\"output.txt\");\n",
        "        out << result;\n",
        "        out.close();\n",
        "        printf(\"Process %d took %f seconds.\\n\", rank, end - start);\n",
        "\n",
        "    } else {\n",
        "        string recv_text = receive_string(0);\n",
        "        vector<Contact> contacts = string_to_contacts(recv_text);\n",
        "        start = MPI_Wtime();\n",
        "        string result;\n",
        "        for (auto &c : contacts) {\n",
        "            string match = check(c, search_term);\n",
        "            if (!match.empty()) result += match;\n",
        "        }\n",
        "        end = MPI_Wtime();\n",
        "        send_string(result, 0);\n",
        "        printf(\"Process %d took %f seconds.\\n\", rank, end - start);\n",
        "    }\n",
        "\n",
        "    MPI_Finalize();\n",
        "    return 0;\n",
        "}\n"
      ],
      "metadata": {
        "id": "_5k3XmFCZeyR"
      },
      "execution_count": null,
      "outputs": []
    },
    {
      "cell_type": "code",
      "source": [
        " mpic++ -o search phonebook_search.cpp\n",
        " mpirun -np 3 ./search phoneboo1.txt 015"
      ],
      "metadata": {
        "id": "NkDlmBHSxZLA"
      },
      "execution_count": null,
      "outputs": []
    },
    {
      "cell_type": "code",
      "source": [
        "#include <bits/stdc++.h>\n",
        "#include <mpi.h>\n",
        "using namespace std;\n",
        "\n",
        "struct Contact {\n",
        "    string id;\n",
        "    string name;\n",
        "    string phone;\n",
        "};\n",
        "\n",
        "void send_string(const string &text, int receiver) {\n",
        "    int len = text.size() + 1;\n",
        "    MPI_Send(&len, 1, MPI_INT, receiver, 1, MPI_COMM_WORLD);\n",
        "    MPI_Send(text.c_str(), len, MPI_CHAR, receiver, 1, MPI_COMM_WORLD);\n",
        "}\n",
        "\n",
        "string receive_string(int sender) {\n",
        "    int len;\n",
        "    MPI_Recv(&len, 1, MPI_INT, sender, 1, MPI_COMM_WORLD, MPI_STATUS_IGNORE);\n",
        "    char *buf = new char[len];\n",
        "    MPI_Recv(buf, len, MPI_CHAR, sender, 1, MPI_COMM_WORLD, MPI_STATUS_IGNORE);\n",
        "    string res(buf);\n",
        "    delete[] buf;\n",
        "    return res;\n",
        "}\n",
        "\n",
        "string vector_to_string(const vector<Contact> &contacts, int start, int end) {\n",
        "    string result;\n",
        "    for (int i = start; i < min((int)contacts.size(), end); i++) {\n",
        "        result += contacts[i].id + \",\" + contacts[i].name + \",\" + contacts[i].phone + \"\\n\";\n",
        "    }\n",
        "    return result;\n",
        "}\n",
        "\n",
        "vector<Contact> string_to_contacts(const string &text) {\n",
        "    vector<Contact> contacts;\n",
        "    istringstream iss(text);\n",
        "    string line;\n",
        "    while (getline(iss, line)) {\n",
        "        if (line.empty()) continue;\n",
        "        vector<string> parts;\n",
        "        istringstream ls(line);\n",
        "        string part;\n",
        "        while (getline(ls, part, ',')) {\n",
        "            parts.push_back(part);\n",
        "        }\n",
        "        if (parts.size() == 3) {\n",
        "            contacts.push_back({parts[0], parts[1], parts[2]});\n",
        "        }\n",
        "    }\n",
        "    return contacts;\n",
        "}\n",
        "\n",
        "string check(const Contact &c, const string &search) {\n",
        "    if (c.name.find(search) != string::npos) {\n",
        "        return c.id + \" \" + c.name + \" \" + c.phone + \"\\n\";\n",
        "    }\n",
        "    return \"\";\n",
        "}\n",
        "\n",
        "void read_phonebook(const vector<string> &files, vector<Contact> &contacts) {\n",
        "    for (const string &file : files) {\n",
        "        ifstream f(file);\n",
        "        string line;\n",
        "        while (getline(f, line)) {\n",
        "            if (line.empty()) continue;\n",
        "            vector<string> parts;\n",
        "            istringstream ls(line);\n",
        "            string part;\n",
        "            while (getline(ls, part, ',')) {\n",
        "                parts.push_back(part);\n",
        "            }\n",
        "            if (parts.size() == 3) {\n",
        "                contacts.push_back({parts[0], parts[1], parts[2]});\n",
        "            }\n",
        "        }\n",
        "    }\n",
        "}\n",
        "\n",
        "int main(int argc, char **argv) {\n",
        "    MPI_Init(&argc, &argv);\n",
        "    int rank, size;\n",
        "    MPI_Comm_rank(MPI_COMM_WORLD, &rank);\n",
        "    MPI_Comm_size(MPI_COMM_WORLD, &size);\n",
        "\n",
        "    if (argc < 3) {\n",
        "        if (rank == 0)\n",
        "            cerr << \"Usage: mpirun -n <procs> \" << argv[0] << \" <file>... <search>\\n\";\n",
        "        MPI_Finalize();\n",
        "        return 1;\n",
        "    }\n",
        "\n",
        "    string search_term = argv[argc - 1];\n",
        "    double start, end;\n",
        "\n",
        "    if (rank == 0) {\n",
        "        vector<string> files(argv + 1, argv + argc - 1);\n",
        "        vector<Contact> contacts;\n",
        "        read_phonebook(files, contacts);\n",
        "        int total = contacts.size();\n",
        "        int chunk = (total + size - 1) / size;\n",
        "\n",
        "        for (int i = 1; i < size; i++) {\n",
        "            string text = vector_to_string(contacts, i * chunk, (i + 1) * chunk);\n",
        "            send_string(text, i);\n",
        "        }\n",
        "\n",
        "        start = MPI_Wtime();\n",
        "        string result;\n",
        "        for (int i = 0; i < min(chunk, total); i++) {\n",
        "            string match = check(contacts[i], search_term);\n",
        "            if (!match.empty()) result += match;\n",
        "        }\n",
        "        end = MPI_Wtime();\n",
        "\n",
        "        for (int i = 1; i < size; i++) {\n",
        "            string recv = receive_string(i);\n",
        "            if (!recv.empty()) result += recv;\n",
        "        }\n",
        "\n",
        "        ofstream out(\"output2.txt\");\n",
        "        out << result;\n",
        "        out.close();\n",
        "        printf(\"Process %d took %f seconds.\\n\", rank, end - start);\n",
        "\n",
        "    } else {\n",
        "        string recv_text = receive_string(0);\n",
        "        vector<Contact> contacts = string_to_contacts(recv_text);\n",
        "        start = MPI_Wtime();\n",
        "        string result;\n",
        "        for (auto &c : contacts) {\n",
        "            string match = check(c, search_term);\n",
        "            if (!match.empty()) result += match;\n",
        "        }\n",
        "        end = MPI_Wtime();\n",
        "        send_string(result, 0);\n",
        "        printf(\"Process %d took %f seconds.\\n\", rank, end - start);\n",
        "    }\n",
        "\n",
        "    MPI_Finalize();\n",
        "    return 0;\n",
        "}\n"
      ],
      "metadata": {
        "id": "JUQSPwuQfa_2",
        "colab": {
          "base_uri": "https://localhost:8080/"
        },
        "outputId": "1f10796f-8b43-4003-c2a6-37e694bd0419"
      },
      "execution_count": null,
      "outputs": [
        {
          "output_type": "stream",
          "name": "stdout",
          "text": [
            "Overwriting search_phonebook.cu\n"
          ]
        }
      ]
    },
    {
      "cell_type": "code",
      "source": [
        " mpic++ -o search phonebook_search.cpp\n",
        " mpirun -np 3 ./search phoneboo1.txt 015"
      ],
      "metadata": {
        "id": "JxMFMQHMrDeS"
      },
      "execution_count": null,
      "outputs": []
    },
    {
      "cell_type": "code",
      "source": [
        "time ./search_phonebook SHAKIL 100 > output1.txt"
      ],
      "metadata": {
        "colab": {
          "base_uri": "https://localhost:8080/",
          "height": 572
        },
        "id": "yncPaKoUrMeC",
        "outputId": "b53b0ec6-d850-48e1-883a-c3a7b9c74f9c"
      },
      "execution_count": null,
      "outputs": [
        {
          "output_type": "error",
          "ename": "SyntaxError",
          "evalue": "invalid syntax (<unknown>, line 1)",
          "traceback": [
            "Traceback \u001b[0;36m(most recent call last)\u001b[0m:\n",
            "  File \u001b[1;32m\"/usr/local/lib/python3.11/dist-packages/IPython/core/interactiveshell.py\"\u001b[0m, line \u001b[1;32m3553\u001b[0m, in \u001b[1;35mrun_code\u001b[0m\n    exec(code_obj, self.user_global_ns, self.user_ns)\n",
            "  File \u001b[1;32m\"<ipython-input-11-ded059445fef>\"\u001b[0m, line \u001b[1;32m1\u001b[0m, in \u001b[1;35m<cell line: 0>\u001b[0m\n    get_ipython().run_line_magic('time', './search_phonebook SHAKIL 100 > output1.txt')\n",
            "  File \u001b[1;32m\"/usr/local/lib/python3.11/dist-packages/IPython/core/interactiveshell.py\"\u001b[0m, line \u001b[1;32m2418\u001b[0m, in \u001b[1;35mrun_line_magic\u001b[0m\n    result = fn(*args, **kwargs)\n",
            "  File \u001b[1;32m\"<decorator-gen-54>\"\u001b[0m, line \u001b[1;32m2\u001b[0m, in \u001b[1;35mtime\u001b[0m\n",
            "  File \u001b[1;32m\"/usr/local/lib/python3.11/dist-packages/IPython/core/magic.py\"\u001b[0m, line \u001b[1;32m187\u001b[0m, in \u001b[1;35m<lambda>\u001b[0m\n    call = lambda f, *a, **k: f(*a, **k)\n",
            "  File \u001b[1;32m\"/usr/local/lib/python3.11/dist-packages/IPython/core/magics/execution.py\"\u001b[0m, line \u001b[1;32m1291\u001b[0m, in \u001b[1;35mtime\u001b[0m\n    expr_ast = self.shell.compile.ast_parse(expr)\n",
            "\u001b[0;36m  File \u001b[0;32m\"/usr/local/lib/python3.11/dist-packages/IPython/core/compilerop.py\"\u001b[0;36m, line \u001b[0;32m101\u001b[0;36m, in \u001b[0;35mast_parse\u001b[0;36m\u001b[0m\n\u001b[0;31m    return compile(source, filename, symbol, self.flags | PyCF_ONLY_AST, 1)\u001b[0m\n",
            "\u001b[0;36m  File \u001b[0;32m\"<unknown>\"\u001b[0;36m, line \u001b[0;32m1\u001b[0m\n\u001b[0;31m    ./search_phonebook SHAKIL 100 > output1.txt\u001b[0m\n\u001b[0m    ^\u001b[0m\n\u001b[0;31mSyntaxError\u001b[0m\u001b[0;31m:\u001b[0m invalid syntax\n"
          ]
        }
      ]
    }
  ]
}